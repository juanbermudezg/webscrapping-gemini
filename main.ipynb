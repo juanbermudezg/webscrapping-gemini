{
 "cells": [
  {
   "cell_type": "code",
   "execution_count": 1,
   "metadata": {},
   "outputs": [
    {
     "name": "stdout",
     "output_type": "stream",
     "text": [
      "Collecting sympy\n",
      "  Downloading sympy-1.13.3-py3-none-any.whl.metadata (12 kB)\n",
      "Collecting mpmath<1.4,>=1.1.0 (from sympy)\n",
      "  Using cached mpmath-1.3.0-py3-none-any.whl.metadata (8.6 kB)\n",
      "Downloading sympy-1.13.3-py3-none-any.whl (6.2 MB)\n",
      "   ---------------------------------------- 0.0/6.2 MB ? eta -:--:--\n",
      "   ---------------------------------------- 0.0/6.2 MB 991.0 kB/s eta 0:00:07\n",
      "   ----- ---------------------------------- 0.8/6.2 MB 10.5 MB/s eta 0:00:01\n",
      "   ---------------------- ----------------- 3.4/6.2 MB 27.4 MB/s eta 0:00:01\n",
      "   -------------------------------------- - 6.0/6.2 MB 34.8 MB/s eta 0:00:01\n",
      "   ---------------------------------------- 6.2/6.2 MB 33.0 MB/s eta 0:00:00\n",
      "Using cached mpmath-1.3.0-py3-none-any.whl (536 kB)\n",
      "Installing collected packages: mpmath, sympy\n",
      "Successfully installed mpmath-1.3.0 sympy-1.13.3\n"
     ]
    },
    {
     "name": "stderr",
     "output_type": "stream",
     "text": [
      "\n",
      "[notice] A new release of pip is available: 24.0 -> 24.2\n",
      "[notice] To update, run: python.exe -m pip install --upgrade pip\n"
     ]
    }
   ],
   "source": [
    "!pip install sympy"
   ]
  },
  {
   "cell_type": "code",
   "execution_count": 10,
   "metadata": {},
   "outputs": [
    {
     "data": {
      "text/latex": [
       "$\\displaystyle 3 \\sqrt{t^{2} + 1}$"
      ],
      "text/plain": [
       "3*sqrt(t**2 + 1)"
      ]
     },
     "execution_count": 10,
     "metadata": {},
     "output_type": "execute_result"
    }
   ],
   "source": [
    "import sympy as sp\n",
    "\n",
    "t = sp.symbols('t')\n",
    "integrand = 3*t/sp.sqrt(t**2+1)\n",
    "integral_result = sp.integrate(integrand, t)\n",
    "integral_result"
   ]
  },
  {
   "cell_type": "code",
   "execution_count": 4,
   "metadata": {},
   "outputs": [
    {
     "data": {
      "text/latex": [
       "$\\displaystyle \\frac{2^{p} p}{\\log{\\left(2 \\right)}} - \\frac{2^{p}}{\\log{\\left(2 \\right)}^{2}}$"
      ],
      "text/plain": [
       "2**p*p/log(2) - 2**p/log(2)**2"
      ]
     },
     "execution_count": 4,
     "metadata": {},
     "output_type": "execute_result"
    }
   ],
   "source": [
    "import sympy as sp\n",
    "p = sp.symbols('p')\n",
    "integrand = p * 2**p\n",
    "u = p\n",
    "dv = 2**p\n",
    "du = sp.diff(u, p)\n",
    "v = sp.integrate(dv, p)\n",
    "integral_result = u * v - sp.integrate(v * du, p)\n",
    "integral_result\n",
    "\n"
   ]
  },
  {
   "cell_type": "code",
   "execution_count": 7,
   "metadata": {},
   "outputs": [
    {
     "name": "stdout",
     "output_type": "stream",
     "text": [
      "Resultado de la integral:\n"
     ]
    },
    {
     "data": {
      "text/latex": [
       "$\\displaystyle \\frac{\\log{\\left(x - 2 \\right)}}{4} + \\frac{3 \\log{\\left(x + 2 \\right)}}{4} + \\frac{1}{x + 2}$"
      ],
      "text/plain": [
       "log(x - 2)/4 + 3*log(x + 2)/4 + 1/(x + 2)"
      ]
     },
     "execution_count": 7,
     "metadata": {},
     "output_type": "execute_result"
    }
   ],
   "source": [
    "import sympy as sp\n",
    "\n",
    "x = sp.symbols('x')\n",
    "integrand = x**2 / ((x - 2) * (x + 2)**2)\n",
    "partial_fractions = sp.apart(integrand, x)\n",
    "integral_result = sp.integrate(partial_fractions, x)\n",
    "print(\"Resultado de la integral:\")\n",
    "integral_result"
   ]
  },
  {
   "cell_type": "code",
   "execution_count": 8,
   "metadata": {},
   "outputs": [
    {
     "data": {
      "text/latex": [
       "$\\displaystyle \\frac{x^{4} \\sqrt{144 - x^{2}}}{5} - \\frac{48 x^{2} \\sqrt{144 - x^{2}}}{5} - \\frac{13824 \\sqrt{144 - x^{2}}}{5}$"
      ],
      "text/plain": [
       "x**4*sqrt(144 - x**2)/5 - 48*x**2*sqrt(144 - x**2)/5 - 13824*sqrt(144 - x**2)/5"
      ]
     },
     "execution_count": 8,
     "metadata": {},
     "output_type": "execute_result"
    }
   ],
   "source": [
    "import sympy as sp\n",
    "x = sp.symbols('x')\n",
    "integrand = x**3 * sp.sqrt(144 - x**2)\n",
    "integral_result = sp.integrate(integrand, x)\n",
    "integral_result\n"
   ]
  }
 ],
 "metadata": {
  "kernelspec": {
   "display_name": "colsubsidio",
   "language": "python",
   "name": "python3"
  },
  "language_info": {
   "codemirror_mode": {
    "name": "ipython",
    "version": 3
   },
   "file_extension": ".py",
   "mimetype": "text/x-python",
   "name": "python",
   "nbconvert_exporter": "python",
   "pygments_lexer": "ipython3",
   "version": "3.11.8"
  }
 },
 "nbformat": 4,
 "nbformat_minor": 2
}
